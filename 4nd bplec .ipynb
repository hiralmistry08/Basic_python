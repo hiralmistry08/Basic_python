{
 "cells": [
  {
   "cell_type": "code",
   "execution_count": 27,
   "id": "1b58789a-cf17-4832-8912-8971213c538c",
   "metadata": {},
   "outputs": [
    {
     "name": "stdin",
     "output_type": "stream",
     "text": [
      "enter number 11\n",
      "enter number 29\n"
     ]
    },
    {
     "name": "stdout",
     "output_type": "stream",
     "text": [
      "zero\n"
     ]
    }
   ],
   "source": [
    "x=int(input(\"enter number\"))\n",
    "y=int(input(\"enter number\"))\n",
    "\n",
    "if x % 2 == 0 and x % 3 == 0:\n",
    "    print (\"value answer\")\n",
    "elif y % 2 == 0 and y % 3 == 0:\n",
    "    print(\"answer\")\n",
    "else:\n",
    "    print(\"zero\")"
   ]
  },
  {
   "cell_type": "code",
   "execution_count": 25,
   "id": "306e5b1b-b0dd-4d57-9758-9f0e12d3d235",
   "metadata": {
    "scrolled": true
   },
   "outputs": [
    {
     "name": "stdin",
     "output_type": "stream",
     "text": [
      "enter number 6\n",
      "enter number 11\n",
      "enter number 29\n"
     ]
    },
    {
     "name": "stdout",
     "output_type": "stream",
     "text": [
      "value answer\n"
     ]
    }
   ],
   "source": [
    "x=int(input(\"enter number\"))\n",
    "y=int(input(\"enter number\"))\n",
    "z=int(input(\"enter number\"))\n",
    "if x % 2 == 0 and x % 3 == 0:\n",
    "    print (\"value answer\")\n",
    "elif y % 2 == 0 and y % 3 == 0:\n",
    "    print(\"answer\")\n",
    "else:\n",
    "    print(\"zero\")"
   ]
  },
  {
   "cell_type": "code",
   "execution_count": 23,
   "id": "dce9353a-80be-41c5-9bf8-7d8b6ff8a51c",
   "metadata": {},
   "outputs": [
    {
     "name": "stdin",
     "output_type": "stream",
     "text": [
      "enter number 7\n",
      "enter number 11\n",
      "enter number 25\n"
     ]
    },
    {
     "name": "stdout",
     "output_type": "stream",
     "text": [
      "zero\n"
     ]
    }
   ],
   "source": [
    "x=int(input(\"enter number\"))\n",
    "y=int(input(\"enter number\"))\n",
    "z=int(input(\"enter number\"))\n",
    "if x % 2 == 0 and x % 3 == 0:\n",
    "    print (\"value answer\")\n",
    "elif y % 2 == 0 and y % 3 == 0:\n",
    "    print(\"answer\")\n",
    "else:\n",
    "    print(\"zero\")"
   ]
  },
  {
   "cell_type": "code",
   "execution_count": 31,
   "id": "b6a1203c-58ff-4092-b6d0-3710c790aeac",
   "metadata": {},
   "outputs": [
    {
     "name": "stdin",
     "output_type": "stream",
     "text": [
      "enter number 11\n"
     ]
    },
    {
     "name": "stdout",
     "output_type": "stream",
     "text": [
      "odd\n"
     ]
    }
   ],
   "source": [
    "x=int(input(\"enter number\"))\n",
    "if x % 2 == 0:\n",
    "    print(\"even\")\n",
    "else:\n",
    "    print(\"odd\")"
   ]
  },
  {
   "cell_type": "code",
   "execution_count": 11,
   "id": "8d5a516d-ddd2-4ef3-9717-0a064a342978",
   "metadata": {},
   "outputs": [
    {
     "name": "stdin",
     "output_type": "stream",
     "text": [
      "Enter price of product 1000\n",
      "enter quantity 5\n",
      "Enter category SER\n"
     ]
    },
    {
     "name": "stdout",
     "output_type": "stream",
     "text": [
      "Amount= 5000.0\n",
      "discount_amt= 1500.0\n",
      "final_amt= 3500.0\n",
      "Total Bill= 5900.0\n"
     ]
    }
   ],
   "source": [
    "price=float(input(\"Enter price of product\"))\n",
    "qty=int(input(\"enter quantity\"))\n",
    "cat=input(\"Enter category\")\n",
    "amt=price*qty\n",
    "print(\"Amount=\",amt)\n",
    "if amt<1000:\n",
    "    discount=0\n",
    "elif 1000 <=amt<=2000:\n",
    "    discount=10\n",
    "elif 2000<=amt<=3000:\n",
    "    discount=20\n",
    "else:\n",
    "    discount=30\n",
    "discount_amt=(amt*discount)/100\n",
    "final_amt=(amt-discount_amt)\n",
    "print(\"discount_amt=\",discount_amt)\n",
    "print(\"final_amt=\",final_amt)\n",
    "\n",
    "if cat==\"AGR\":\n",
    "    total_bill=amt\n",
    "elif cat==\"FNB\":\n",
    "    tax=(amt*5)/100\n",
    "    total=amt+tax\n",
    "elif cat==\"ALCH\":\n",
    "    tax=(amt*100)/100\n",
    "    total=amt+tax\n",
    "elif cat==\"SER\":\n",
    "    tax=(amt*18)/100\n",
    "    total=amt+tax\n",
    "elif cat==\"ELE\":\n",
    "    tax=(amt*25)/100\n",
    "    total=amt+tax\n",
    "else:\n",
    "    total_bill=amt\n",
    "    print(\"category not mentioned\")\n",
    "\n",
    "print(\"Total Bill=\",total)"
   ]
  },
  {
   "cell_type": "code",
   "execution_count": 13,
   "id": "0ce4fe56-3a35-49c5-b4cd-adb0e3d0170d",
   "metadata": {},
   "outputs": [
    {
     "name": "stdin",
     "output_type": "stream",
     "text": [
      "Enter price of product 2500\n",
      "enter quantity 10\n",
      "Enter category ALCH\n"
     ]
    },
    {
     "name": "stdout",
     "output_type": "stream",
     "text": [
      "Amount= 25000.0\n",
      "discount_amt= 7500.0\n",
      "final_amt= 17500.0\n",
      "Total Bill= 50000.0\n"
     ]
    }
   ],
   "source": [
    "price=float(input(\"Enter price of product\"))\n",
    "qty=int(input(\"enter quantity\"))\n",
    "cat=input(\"Enter category\")\n",
    "amt=price*qty\n",
    "print(\"Amount=\",amt)\n",
    "if amt<1000:\n",
    "    discount=0\n",
    "elif 1000 <=amt<=2000:\n",
    "    discount=10\n",
    "elif 2000<=amt<=3000:\n",
    "    discount=20\n",
    "else:\n",
    "    discount=30\n",
    "discount_amt=(amt*discount)/100\n",
    "final_amt=(amt-discount_amt)\n",
    "print(\"discount_amt=\",discount_amt)\n",
    "print(\"final_amt=\",final_amt)\n",
    "\n",
    "if cat==\"AGR\":\n",
    "    total_bill=amt\n",
    "elif cat==\"FNB\":\n",
    "    tax=(amt*5)/100\n",
    "    total=amt+tax\n",
    "elif cat==\"ALCH\":\n",
    "    tax=(amt*100)/100\n",
    "    total=amt+tax\n",
    "elif cat==\"SER\":\n",
    "    tax=(amt*18)/100\n",
    "    total=amt+tax\n",
    "elif cat==\"ELE\":\n",
    "    tax=(amt*25)/100\n",
    "    total=amt+tax\n",
    "else:\n",
    "    total_bill=amt\n",
    "    print(\"category not mentioned\")\n",
    "\n",
    "print(\"Total Bill=\",total)"
   ]
  },
  {
   "cell_type": "code",
   "execution_count": 15,
   "id": "5413dafd-b4ae-4d9d-b1ba-73aa8e4fee93",
   "metadata": {},
   "outputs": [
    {
     "name": "stdin",
     "output_type": "stream",
     "text": [
      "Enter price of product 3500\n",
      "enter quantity 3\n",
      "Enter category ELE\n"
     ]
    },
    {
     "name": "stdout",
     "output_type": "stream",
     "text": [
      "Amount= 10500.0\n",
      "discount_amt= 3150.0\n",
      "final_amt= 7350.0\n",
      "Total Bill= 13125.0\n"
     ]
    }
   ],
   "source": [
    "price=float(input(\"Enter price of product\"))\n",
    "qty=int(input(\"enter quantity\"))\n",
    "cat=input(\"Enter category\")\n",
    "amt=price*qty\n",
    "print(\"Amount=\",amt)\n",
    "if amt<1000:\n",
    "    discount=0\n",
    "elif 1000 <=amt<=2000:\n",
    "    discount=10\n",
    "elif 2000<=amt<=3000:\n",
    "    discount=20\n",
    "else:\n",
    "    discount=30\n",
    "discount_amt=(amt*discount)/100\n",
    "final_amt=(amt-discount_amt)\n",
    "print(\"discount_amt=\",discount_amt)\n",
    "print(\"final_amt=\",final_amt)\n",
    "\n",
    "if cat==\"AGR\":\n",
    "    total_bill=amt\n",
    "elif cat==\"FNB\":\n",
    "    tax=(amt*5)/100\n",
    "    total=amt+tax\n",
    "elif cat==\"ALCH\":\n",
    "    tax=(amt*100)/100\n",
    "    total=amt+tax\n",
    "elif cat==\"SER\":\n",
    "    tax=(amt*18)/100\n",
    "    total=amt+tax\n",
    "elif cat==\"ELE\":\n",
    "    tax=(amt*25)/100\n",
    "    total=amt+tax\n",
    "else:\n",
    "    total_bill=amt\n",
    "    print(\"category not mentioned\")\n",
    "\n",
    "print(\"Total Bill=\",total)"
   ]
  },
  {
   "cell_type": "code",
   "execution_count": 17,
   "id": "95fa2fd9-7871-46cf-b845-4c0cb31f77ea",
   "metadata": {},
   "outputs": [
    {
     "name": "stdin",
     "output_type": "stream",
     "text": [
      "Enter price of product 5000\n",
      "enter quantity 20\n",
      "Enter category FNB\n"
     ]
    },
    {
     "name": "stdout",
     "output_type": "stream",
     "text": [
      "Amount= 100000.0\n",
      "discount_amt= 30000.0\n",
      "final_amt= 70000.0\n",
      "Total Bill= 105000.0\n"
     ]
    }
   ],
   "source": [
    "price=float(input(\"Enter price of product\"))\n",
    "qty=int(input(\"enter quantity\"))\n",
    "cat=input(\"Enter category\")\n",
    "amt=price*qty\n",
    "print(\"Amount=\",amt)\n",
    "if amt<1000:\n",
    "    discount=0\n",
    "elif 1000 <=amt<=2000:\n",
    "    discount=10\n",
    "elif 2000<=amt<=3000:\n",
    "    discount=20\n",
    "else:\n",
    "    discount=30\n",
    "discount_amt=(amt*discount)/100\n",
    "final_amt=(amt-discount_amt)\n",
    "print(\"discount_amt=\",discount_amt)\n",
    "print(\"final_amt=\",final_amt)\n",
    "\n",
    "if cat==\"AGR\":\n",
    "    total_bill=amt\n",
    "elif cat==\"FNB\":\n",
    "    tax=(amt*5)/100\n",
    "    total=amt+tax\n",
    "elif cat==\"ALCH\":\n",
    "    tax=(amt*100)/100\n",
    "    total=amt+tax\n",
    "elif cat==\"SER\":\n",
    "    tax=(amt*18)/100\n",
    "    total=amt+tax\n",
    "elif cat==\"ELE\":\n",
    "    tax=(amt*25)/100\n",
    "    total=amt+tax\n",
    "else:\n",
    "    total_bill=amt\n",
    "    print(\"category not mentioned\")\n",
    "\n",
    "print(\"Total Bill=\",total)"
   ]
  },
  {
   "cell_type": "code",
   "execution_count": 19,
   "id": "4fdc16e9-645c-4e64-bd79-cb0ed532bb9f",
   "metadata": {},
   "outputs": [
    {
     "name": "stdin",
     "output_type": "stream",
     "text": [
      "Enter price of product 4500\n",
      "enter quantity 78\n",
      "Enter category AGR\n"
     ]
    },
    {
     "name": "stdout",
     "output_type": "stream",
     "text": [
      "Amount= 351000.0\n",
      "discount_amt= 105300.0\n",
      "final_amt= 245700.0\n",
      "Total Bill= 105000.0\n"
     ]
    }
   ],
   "source": [
    "price=float(input(\"Enter price of product\"))\n",
    "qty=int(input(\"enter quantity\"))\n",
    "cat=input(\"Enter category\")\n",
    "amt=price*qty\n",
    "print(\"Amount=\",amt)\n",
    "if amt<1000:\n",
    "    discount=0\n",
    "elif 1000 <=amt<=2000:\n",
    "    discount=10\n",
    "elif 2000<=amt<=3000:\n",
    "    discount=20\n",
    "else:\n",
    "    discount=30\n",
    "discount_amt=(amt*discount)/100\n",
    "final_amt=(amt-discount_amt)\n",
    "print(\"discount_amt=\",discount_amt)\n",
    "print(\"final_amt=\",final_amt)\n",
    "\n",
    "if cat==\"AGR\":\n",
    "    total_bill=amt\n",
    "elif cat==\"FNB\":\n",
    "    tax=(amt*5)/100\n",
    "    total=amt+tax\n",
    "elif cat==\"ALCH\":\n",
    "    tax=(amt*100)/100\n",
    "    total=amt+tax\n",
    "elif cat==\"SER\":\n",
    "    tax=(amt*18)/100\n",
    "    total=amt+tax\n",
    "elif cat==\"ELE\":\n",
    "    tax=(amt*25)/100\n",
    "    total=amt+tax\n",
    "else:\n",
    "    total_bill=amt\n",
    "    print(\"category not mentioned\")\n",
    "\n",
    "print(\"Total Bill=\",total)"
   ]
  },
  {
   "cell_type": "code",
   "execution_count": null,
   "id": "77eb90c4-c13f-417b-a14b-06e7dc0448c5",
   "metadata": {},
   "outputs": [],
   "source": []
  }
 ],
 "metadata": {
  "kernelspec": {
   "display_name": "Python 3 (ipykernel)",
   "language": "python",
   "name": "python3"
  },
  "language_info": {
   "codemirror_mode": {
    "name": "ipython",
    "version": 3
   },
   "file_extension": ".py",
   "mimetype": "text/x-python",
   "name": "python",
   "nbconvert_exporter": "python",
   "pygments_lexer": "ipython3",
   "version": "3.12.4"
  }
 },
 "nbformat": 4,
 "nbformat_minor": 5
}
