{
 "cells": [
  {
   "cell_type": "markdown",
   "id": "e4693420-24bf-4938-a311-0c80eefeadc4",
   "metadata": {},
   "source": [
    "# Introduction of Jupyter notes."
   ]
  },
  {
   "cell_type": "code",
   "execution_count": 1,
   "id": "1766e352-6fdf-4f4f-bf09-cd93f4d27c47",
   "metadata": {},
   "outputs": [
    {
     "name": "stdout",
     "output_type": "stream",
     "text": [
      "hello world!\n"
     ]
    }
   ],
   "source": [
    "print(\"hello world!\")"
   ]
  },
  {
   "cell_type": "code",
   "execution_count": 3,
   "id": "cd59945d-76cb-46f7-b42c-8e8c1e3c109d",
   "metadata": {},
   "outputs": [
    {
     "name": "stdout",
     "output_type": "stream",
     "text": [
      "123+567\n"
     ]
    }
   ],
   "source": [
    "print(\"123+567\")"
   ]
  },
  {
   "cell_type": "code",
   "execution_count": 9,
   "id": "07285933-5b04-4e59-baf6-73d75a0d3d4b",
   "metadata": {},
   "outputs": [
    {
     "name": "stdout",
     "output_type": "stream",
     "text": [
      "5676789\n"
     ]
    }
   ],
   "source": [
    "print (567_6789)"
   ]
  },
  {
   "cell_type": "code",
   "execution_count": 5,
   "id": "7e7e380b-d0ee-4a05-a905-310f483a0ad3",
   "metadata": {},
   "outputs": [
    {
     "name": "stdout",
     "output_type": "stream",
     "text": [
      "579\n"
     ]
    }
   ],
   "source": [
    "print (123+456)"
   ]
  },
  {
   "cell_type": "markdown",
   "id": "0a7eba4f-33dd-48ae-8d9d-a156c56b455b",
   "metadata": {},
   "source": [
    "# Short cut key to add new cell press A"
   ]
  },
  {
   "cell_type": "code",
   "execution_count": 14,
   "id": "90d640a4-c7d0-4df8-bfe8-1d3439e97dfa",
   "metadata": {},
   "outputs": [
    {
     "name": "stdout",
     "output_type": "stream",
     "text": [
      "349036992\n"
     ]
    }
   ],
   "source": [
    "print (456*765432)"
   ]
  },
  {
   "cell_type": "markdown",
   "id": "efc4c3d1-20e6-49bd-b89f-b7b981d2bed2",
   "metadata": {},
   "source": [
    "# short cut key to add below new cell press B"
   ]
  },
  {
   "cell_type": "code",
   "execution_count": 20,
   "id": "79d62402-29b0-4aa2-887e-81c3dc317ca2",
   "metadata": {},
   "outputs": [
    {
     "name": "stdout",
     "output_type": "stream",
     "text": [
      "valur of a 5\n",
      "valur of b 8\n",
      "valur of c 6\n",
      "6.333333333333333\n"
     ]
    }
   ],
   "source": [
    "a=5\n",
    "b=8\n",
    "c=6\n",
    "r=a+b/c\n",
    "print (\"valur of a\", a)\n",
    "print (\"valur of b\", b)\n",
    "print (\"valur of c\", c)\n",
    "print (r)"
   ]
  },
  {
   "cell_type": "code",
   "execution_count": 22,
   "id": "fdfac559-e74f-43a2-847a-49666e453b08",
   "metadata": {},
   "outputs": [
    {
     "name": "stdout",
     "output_type": "stream",
     "text": [
      "value of a= 523\n",
      "value of b= 845\n",
      "valur of c= 687\n",
      "valur of c= 687\n",
      "249.4867256637168\n"
     ]
    }
   ],
   "source": [
    "a=523\n",
    "b=845\n",
    "c=687\n",
    "d=678\n",
    "e=564\n",
    "r=a-b+c/d*e\n",
    "print (\"value of a=\", a)\n",
    "print (\"value of b=\", b)\n",
    "print (\"valur of c=\", c)\n",
    "print (\"valur of c=\", c)\n",
    "print (r)"
   ]
  },
  {
   "cell_type": "code",
   "execution_count": 24,
   "id": "ac0bd316-4103-4dc6-b17d-46817b10b16a",
   "metadata": {},
   "outputs": [
    {
     "name": "stdout",
     "output_type": "stream",
     "text": [
      "249.4867256637168\n"
     ]
    }
   ],
   "source": [
    "print (r)"
   ]
  },
  {
   "cell_type": "code",
   "execution_count": 26,
   "id": "bfa04362-e629-4fbb-b79f-4d9c89cb9adc",
   "metadata": {},
   "outputs": [
    {
     "name": "stdout",
     "output_type": "stream",
     "text": [
      "523\n"
     ]
    }
   ],
   "source": [
    "print (a)"
   ]
  },
  {
   "cell_type": "code",
   "execution_count": 28,
   "id": "2d249678-99ae-4105-980a-d2f3a13b988e",
   "metadata": {},
   "outputs": [
    {
     "name": "stdout",
     "output_type": "stream",
     "text": [
      "7\n"
     ]
    }
   ],
   "source": [
    "a=5^2\n",
    "print (a)"
   ]
  },
  {
   "cell_type": "code",
   "execution_count": 30,
   "id": "3ca6be8f-861e-4219-a360-51d10737cc8b",
   "metadata": {},
   "outputs": [
    {
     "ename": "SyntaxError",
     "evalue": "invalid syntax. Perhaps you forgot a comma? (315962578.py, line 2)",
     "output_type": "error",
     "traceback": [
      "\u001b[1;36m  Cell \u001b[1;32mIn[30], line 2\u001b[1;36m\u001b[0m\n\u001b[1;33m    print(square of a)\u001b[0m\n\u001b[1;37m          ^\u001b[0m\n\u001b[1;31mSyntaxError\u001b[0m\u001b[1;31m:\u001b[0m invalid syntax. Perhaps you forgot a comma?\n"
     ]
    }
   ],
   "source": [
    "a=5\n",
    "print(square of a)"
   ]
  },
  {
   "cell_type": "code",
   "execution_count": 32,
   "id": "c04764e3-8822-4116-b5a1-de73217dec56",
   "metadata": {
    "scrolled": true
   },
   "outputs": [
    {
     "name": "stdout",
     "output_type": "stream",
     "text": [
      "sqrt of a 5\n"
     ]
    }
   ],
   "source": [
    "a=5\n",
    "print (\"sqrt of a\", a)"
   ]
  },
  {
   "cell_type": "code",
   "execution_count": null,
   "id": "f3ef647d-b6f0-45e4-b703-64549d5ae128",
   "metadata": {},
   "outputs": [],
   "source": []
  },
  {
   "cell_type": "code",
   "execution_count": 36,
   "id": "753609a1-f123-4a43-8bb6-6a3c212f9157",
   "metadata": {},
   "outputs": [
    {
     "name": "stdout",
     "output_type": "stream",
     "text": [
      "sqrt of a= 64\n"
     ]
    }
   ],
   "source": [
    "a=8\n",
    "sq= a*a\n",
    "print (\"sqrt of a=\",sq)"
   ]
  },
  {
   "cell_type": "code",
   "execution_count": 38,
   "id": "1316e7c1-b14f-4d0e-9c9a-d881e875abf8",
   "metadata": {},
   "outputs": [
    {
     "name": "stdout",
     "output_type": "stream",
     "text": [
      "cube of b= 512\n"
     ]
    }
   ],
   "source": [
    "b=8\n",
    "cube=b*b*b\n",
    "print (\"cube of b=\", cube)\n"
   ]
  }
 ],
 "metadata": {
  "kernelspec": {
   "display_name": "Python 3 (ipykernel)",
   "language": "python",
   "name": "python3"
  },
  "language_info": {
   "codemirror_mode": {
    "name": "ipython",
    "version": 3
   },
   "file_extension": ".py",
   "mimetype": "text/x-python",
   "name": "python",
   "nbconvert_exporter": "python",
   "pygments_lexer": "ipython3",
   "version": "3.12.4"
  }
 },
 "nbformat": 4,
 "nbformat_minor": 5
}
