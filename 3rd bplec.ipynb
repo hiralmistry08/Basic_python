{
 "cells": [
  {
   "cell_type": "markdown",
   "id": "14c60143-8d91-4d86-835a-82b2b224415d",
   "metadata": {},
   "source": [
    "# list "
   ]
  },
  {
   "cell_type": "code",
   "execution_count": 8,
   "id": "52744aa3-20f2-4243-a7f4-45e1e6782154",
   "metadata": {
    "scrolled": true
   },
   "outputs": [
    {
     "data": {
      "text/plain": [
       "[1, 'hiral', 'hiral@gamil.com', 'ravet', 24, 'female', 23000]"
      ]
     },
     "execution_count": 8,
     "metadata": {},
     "output_type": "execute_result"
    }
   ],
   "source": [
    "List1=[1,\"hiral\",\"hiral@gamil.com\",\"ravet\",24,\"female\",23000]\n",
    "List1"
   ]
  },
  {
   "cell_type": "code",
   "execution_count": 10,
   "id": "e3bfeb99-c533-4ce2-b8e7-b595ddd6e370",
   "metadata": {},
   "outputs": [],
   "source": [
    "List1.append(234)"
   ]
  },
  {
   "cell_type": "code",
   "execution_count": 12,
   "id": "c3a5a040-1a87-4847-b9c2-654b1191afc0",
   "metadata": {},
   "outputs": [
    {
     "data": {
      "text/plain": [
       "[1, 'hiral', 'hiral@gamil.com', 'ravet', 24, 'female', 23000, 234]"
      ]
     },
     "execution_count": 12,
     "metadata": {},
     "output_type": "execute_result"
    }
   ],
   "source": [
    "List1"
   ]
  },
  {
   "cell_type": "code",
   "execution_count": 16,
   "id": "a0b7d480-96d9-4f5b-a1e2-117ba12a52bd",
   "metadata": {},
   "outputs": [],
   "source": [
    "List1.remove(1)"
   ]
  },
  {
   "cell_type": "code",
   "execution_count": 18,
   "id": "30b98809-5bba-4ff0-9a38-5cc7f30ca74b",
   "metadata": {},
   "outputs": [
    {
     "data": {
      "text/plain": [
       "['hiral', 'hiral@gamil.com', 'ravet', 24, 'female', 23000, 234]"
      ]
     },
     "execution_count": 18,
     "metadata": {},
     "output_type": "execute_result"
    }
   ],
   "source": [
    "List1"
   ]
  },
  {
   "cell_type": "code",
   "execution_count": 20,
   "id": "2bdcc5ce-0ee6-4c32-bffa-28bbe1069356",
   "metadata": {},
   "outputs": [],
   "source": [
    "List1.insert(0,234)"
   ]
  },
  {
   "cell_type": "code",
   "execution_count": 22,
   "id": "177b82d8-739f-4828-b1b5-b2250a0eddf3",
   "metadata": {},
   "outputs": [
    {
     "name": "stdout",
     "output_type": "stream",
     "text": [
      "[234, 'hiral', 'hiral@gamil.com', 'ravet', 24, 'female', 23000, 234]\n"
     ]
    }
   ],
   "source": [
    "print(List1)"
   ]
  },
  {
   "cell_type": "code",
   "execution_count": 24,
   "id": "607b7bb5-aecd-43a3-8a25-aac27b08a999",
   "metadata": {},
   "outputs": [
    {
     "data": {
      "text/plain": [
       "234"
      ]
     },
     "execution_count": 24,
     "metadata": {},
     "output_type": "execute_result"
    }
   ],
   "source": [
    "List1.pop()"
   ]
  },
  {
   "cell_type": "code",
   "execution_count": 26,
   "id": "840eec4e-1cd2-4d23-be0f-2c62d07b5514",
   "metadata": {},
   "outputs": [
    {
     "data": {
      "text/plain": [
       "[234, 'hiral', 'hiral@gamil.com', 'ravet', 24, 'female', 23000]"
      ]
     },
     "execution_count": 26,
     "metadata": {},
     "output_type": "execute_result"
    }
   ],
   "source": [
    "List1"
   ]
  },
  {
   "cell_type": "code",
   "execution_count": 28,
   "id": "a8e688cc-82af-4303-a0bf-9b5ddbf5a163",
   "metadata": {},
   "outputs": [
    {
     "ename": "TypeError",
     "evalue": "pop expected at most 1 argument, got 2",
     "output_type": "error",
     "traceback": [
      "\u001b[1;31m---------------------------------------------------------------------------\u001b[0m",
      "\u001b[1;31mTypeError\u001b[0m                                 Traceback (most recent call last)",
      "Cell \u001b[1;32mIn[28], line 1\u001b[0m\n\u001b[1;32m----> 1\u001b[0m List1\u001b[38;5;241m.\u001b[39mpop(\u001b[38;5;241m0\u001b[39m,\u001b[38;5;241m3\u001b[39m)\n",
      "\u001b[1;31mTypeError\u001b[0m: pop expected at most 1 argument, got 2"
     ]
    }
   ],
   "source": [
    "List1.pop()"
   ]
  },
  {
   "cell_type": "code",
   "execution_count": 32,
   "id": "1a12f7a4-60b3-47fe-9019-1bff7573d7a9",
   "metadata": {},
   "outputs": [
    {
     "ename": "TypeError",
     "evalue": "list.remove() takes exactly one argument (2 given)",
     "output_type": "error",
     "traceback": [
      "\u001b[1;31m---------------------------------------------------------------------------\u001b[0m",
      "\u001b[1;31mTypeError\u001b[0m                                 Traceback (most recent call last)",
      "Cell \u001b[1;32mIn[32], line 1\u001b[0m\n\u001b[1;32m----> 1\u001b[0m List1\u001b[38;5;241m.\u001b[39mremove(\u001b[38;5;124m\"\u001b[39m\u001b[38;5;124mhiral\u001b[39m\u001b[38;5;124m\"\u001b[39m,\u001b[38;5;241m24\u001b[39m)\n",
      "\u001b[1;31mTypeError\u001b[0m: list.remove() takes exactly one argument (2 given)"
     ]
    }
   ],
   "source": [
    "List1.remove()"
   ]
  },
  {
   "cell_type": "code",
   "execution_count": 34,
   "id": "72c98aa8-fcc3-4061-9c91-928eeb9027c3",
   "metadata": {},
   "outputs": [],
   "source": [
    "list2=[123,\"hiral\",\"mistry\",\"ravet\",25000,24,]"
   ]
  },
  {
   "cell_type": "code",
   "execution_count": null,
   "id": "0c43b7c0-7d60-4d8d-aa2c-f46108bef688",
   "metadata": {},
   "outputs": [],
   "source": []
  },
  {
   "cell_type": "code",
   "execution_count": null,
   "id": "f866bc24-77e5-4d7e-8fe6-20fcaca4a285",
   "metadata": {},
   "outputs": [],
   "source": []
  }
 ],
 "metadata": {
  "kernelspec": {
   "display_name": "Python 3 (ipykernel)",
   "language": "python",
   "name": "python3"
  },
  "language_info": {
   "codemirror_mode": {
    "name": "ipython",
    "version": 3
   },
   "file_extension": ".py",
   "mimetype": "text/x-python",
   "name": "python",
   "nbconvert_exporter": "python",
   "pygments_lexer": "ipython3",
   "version": "3.12.4"
  }
 },
 "nbformat": 4,
 "nbformat_minor": 5
}
