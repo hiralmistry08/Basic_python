{
 "cells": [
  {
   "cell_type": "markdown",
   "id": "9736380a-786b-4aac-a92b-b9b1976368da",
   "metadata": {},
   "source": [
    "# code by using input and calculate sum of numbers"
   ]
  },
  {
   "cell_type": "code",
   "execution_count": 2,
   "id": "0b04d286-c841-46ba-a658-771db95deb57",
   "metadata": {
    "scrolled": true
   },
   "outputs": [
    {
     "name": "stdin",
     "output_type": "stream",
     "text": [
      "enter 1st number 23\n",
      "enter 2nd number 34\n"
     ]
    },
    {
     "name": "stdout",
     "output_type": "stream",
     "text": [
      "57\n"
     ]
    }
   ],
   "source": [
    "n1=int(input(\"enter 1st number\"))\n",
    "n2=int(input(\"enter 2nd number\"))\n",
    "n3=n1+n2\n",
    "print(n3)"
   ]
  },
  {
   "cell_type": "markdown",
   "id": "c928bb02-fb13-474d-b54b-07f27c10134f",
   "metadata": {},
   "source": [
    "# code by using input and calculate multiplication of numbers"
   ]
  },
  {
   "cell_type": "code",
   "execution_count": 5,
   "id": "8c096c04-bc44-4511-804b-259f42f36bf5",
   "metadata": {
    "scrolled": true
   },
   "outputs": [
    {
     "name": "stdin",
     "output_type": "stream",
     "text": [
      "enter 1st number 34\n",
      "enter 2nd number 56\n"
     ]
    },
    {
     "name": "stdout",
     "output_type": "stream",
     "text": [
      "1904\n"
     ]
    }
   ],
   "source": [
    "n1=int(input(\"enter 1st number\"))\n",
    "n2=int(input(\"enter 2nd number\"))\n",
    "n3=n1*n2\n",
    "print(n3)"
   ]
  },
  {
   "cell_type": "markdown",
   "id": "f01a1c32-2c2c-4d0a-87fb-4f5407d834b2",
   "metadata": {},
   "source": [
    "# code by using input and calculate division of numbers"
   ]
  },
  {
   "cell_type": "code",
   "execution_count": 8,
   "id": "0a56713b-a444-4f02-acc5-29d032d278d6",
   "metadata": {
    "scrolled": true
   },
   "outputs": [
    {
     "name": "stdin",
     "output_type": "stream",
     "text": [
      "enter 1st number 34\n",
      "enter 2nd number 67\n"
     ]
    },
    {
     "name": "stdout",
     "output_type": "stream",
     "text": [
      "0.5074626865671642\n"
     ]
    }
   ],
   "source": [
    "n1=int(input(\"enter 1st number\"))\n",
    "n2=int(input(\"enter 2nd number\"))\n",
    "n3=n1/n2\n",
    "print(n3)"
   ]
  },
  {
   "cell_type": "code",
   "execution_count": 10,
   "id": "6334310b-87e1-43bc-a592-6a243ff65fb3",
   "metadata": {
    "scrolled": true
   },
   "outputs": [
    {
     "name": "stdin",
     "output_type": "stream",
     "text": [
      "enter 1st number 23\n",
      "enter 2nd number 34\n"
     ]
    },
    {
     "ename": "TypeError",
     "evalue": "can't multiply sequence by non-int of type 'str'",
     "output_type": "error",
     "traceback": [
      "\u001b[1;31m---------------------------------------------------------------------------\u001b[0m",
      "\u001b[1;31mTypeError\u001b[0m                                 Traceback (most recent call last)",
      "Cell \u001b[1;32mIn[10], line 3\u001b[0m\n\u001b[0;32m      1\u001b[0m n1\u001b[38;5;241m=\u001b[39m\u001b[38;5;28minput\u001b[39m(\u001b[38;5;124m\"\u001b[39m\u001b[38;5;124menter 1st number\u001b[39m\u001b[38;5;124m\"\u001b[39m)\n\u001b[0;32m      2\u001b[0m n2\u001b[38;5;241m=\u001b[39m\u001b[38;5;28minput\u001b[39m(\u001b[38;5;124m\"\u001b[39m\u001b[38;5;124menter 2nd number\u001b[39m\u001b[38;5;124m\"\u001b[39m)\n\u001b[1;32m----> 3\u001b[0m n3\u001b[38;5;241m=\u001b[39mn1\u001b[38;5;241m*\u001b[39mn2\n\u001b[0;32m      4\u001b[0m \u001b[38;5;28mprint\u001b[39m(n3)\n",
      "\u001b[1;31mTypeError\u001b[0m: can't multiply sequence by non-int of type 'str'"
     ]
    }
   ],
   "source": [
    "n1=input(\"enter 1st number\")\n",
    "n2=input(\"enter 2nd number\")\n",
    "n3=n1*n2\n",
    "print(n3)"
   ]
  },
  {
   "cell_type": "code",
   "execution_count": 12,
   "id": "e1b275a6-567b-4739-a0f9-79f7f6a1dc68",
   "metadata": {
    "scrolled": true
   },
   "outputs": [
    {
     "name": "stdin",
     "output_type": "stream",
     "text": [
      "enter 1st number 23.9\n",
      "enter 2nd number 34.8\n"
     ]
    },
    {
     "name": "stdout",
     "output_type": "stream",
     "text": [
      "831.7199999999999\n"
     ]
    }
   ],
   "source": [
    "n1=float(input(\"enter 1st number\"))\n",
    "n2=float(input(\"enter 2nd number\"))\n",
    "n3=n1*n2\n",
    "print(n3)"
   ]
  },
  {
   "cell_type": "code",
   "execution_count": 14,
   "id": "4e748ec9-d371-41bc-b64f-9a05458218f6",
   "metadata": {
    "scrolled": true
   },
   "outputs": [
    {
     "name": "stdin",
     "output_type": "stream",
     "text": [
      "enter 1st number 23\n",
      "enter 2nd number 56\n"
     ]
    },
    {
     "name": "stdout",
     "output_type": "stream",
     "text": [
      "1288.0\n"
     ]
    }
   ],
   "source": [
    "n1=float(input(\"enter 1st number\"))\n",
    "n2=float(input(\"enter 2nd number\"))\n",
    "n3=n1*n2\n",
    "print(n3)"
   ]
  },
  {
   "cell_type": "code",
   "execution_count": 16,
   "id": "829db579-afbe-48c2-8be5-5500a049f42b",
   "metadata": {
    "scrolled": true
   },
   "outputs": [
    {
     "name": "stdin",
     "output_type": "stream",
     "text": [
      "enter 1st number 23\n",
      "enter 2nd number 34\n"
     ]
    },
    {
     "name": "stdout",
     "output_type": "stream",
     "text": [
      "1\n"
     ]
    }
   ],
   "source": [
    "n1=bool(input(\"enter 1st number\"))\n",
    "n2=bool(input(\"enter 2nd number\"))\n",
    "n3=n1*n2\n",
    "print(n3)"
   ]
  },
  {
   "cell_type": "code",
   "execution_count": 24,
   "id": "b60b2962-6966-4b99-b2a9-c3e9a7f56df2",
   "metadata": {
    "scrolled": true
   },
   "outputs": [
    {
     "data": {
      "text/plain": [
       "False"
      ]
     },
     "execution_count": 24,
     "metadata": {},
     "output_type": "execute_result"
    }
   ],
   "source": [
    "bool(None)"
   ]
  },
  {
   "cell_type": "code",
   "execution_count": 26,
   "id": "3c40e047-ac4f-4670-ae89-7aefbc7efe5d",
   "metadata": {
    "scrolled": true
   },
   "outputs": [
    {
     "data": {
      "text/plain": [
       "0"
      ]
     },
     "execution_count": 26,
     "metadata": {},
     "output_type": "execute_result"
    }
   ],
   "source": [
    "True*False"
   ]
  },
  {
   "cell_type": "code",
   "execution_count": 28,
   "id": "c3e0ca8b-e4fc-4677-b575-210c7303d44a",
   "metadata": {},
   "outputs": [
    {
     "name": "stdin",
     "output_type": "stream",
     "text": [
      "enter 1st number \n",
      "enter 2nd number \n"
     ]
    },
    {
     "name": "stdout",
     "output_type": "stream",
     "text": [
      "0\n"
     ]
    }
   ],
   "source": [
    "n1=bool(input(\"enter 1st number\"))\n",
    "n2=bool(input(\"enter 2nd number\"))\n",
    "n3=n1*n2\n",
    "print(n3)"
   ]
  },
  {
   "cell_type": "code",
   "execution_count": 30,
   "id": "47ae19ae-93e5-4dc3-9e6b-643435d86e97",
   "metadata": {},
   "outputs": [
    {
     "name": "stdin",
     "output_type": "stream",
     "text": [
      "enter name: hiral\n",
      "enter number: 3456789921\n",
      "enter balance: 2389\n"
     ]
    }
   ],
   "source": [
    "name= input(\"enter name:\")\n",
    "m0b=int(input(\"enter number:\"))\n",
    "bal=int(input(\"enter balance:\"))"
   ]
  },
  {
   "cell_type": "markdown",
   "id": "821971e6-fa72-47da-8f9a-a42980a272c5",
   "metadata": {},
   "source": [
    "# comma separators "
   ]
  },
  {
   "cell_type": "code",
   "execution_count": 35,
   "id": "ef159118-a583-4e7c-b8a8-a08044a0c446",
   "metadata": {},
   "outputs": [
    {
     "name": "stdout",
     "output_type": "stream",
     "text": [
      "Hi hiral your mobile number : 3456789921 is due for recharge.\n",
      "current balance is 2389\n"
     ]
    }
   ],
   "source": [
    "print(\"Hi\", name, \"your mobile number :\", m0b, \"is due for recharge.\\ncurrent balance is\", bal)"
   ]
  },
  {
   "cell_type": "code",
   "execution_count": 39,
   "id": "185b6e6e-0e95-4d48-a214-b043b7d037fe",
   "metadata": {
    "scrolled": true
   },
   "outputs": [
    {
     "name": "stdout",
     "output_type": "stream",
     "text": [
      "Hi hiral your mobile number : 3456789921 is due for recharge.\n",
      " current balance is 2389\n"
     ]
    }
   ],
   "source": [
    "print(\"Hi\", name, \"your mobile number :\", m0b, \"is due for recharge.\" \"\\n current balance is\", bal)"
   ]
  },
  {
   "cell_type": "markdown",
   "id": "a2486568-0d7b-43b9-b092-d42d0ba50df6",
   "metadata": {},
   "source": [
    "# string separators"
   ]
  },
  {
   "cell_type": "code",
   "execution_count": 44,
   "id": "dc453f0d-24d6-4eda-988e-44940e47b56e",
   "metadata": {},
   "outputs": [
    {
     "name": "stdout",
     "output_type": "stream",
     "text": [
      "Hi hiral your mobile number : 3456789921 is due for recharge. current balance is 2389\n"
     ]
    }
   ],
   "source": [
    "print(f\"Hi {name} your mobile number : {m0b} is due for recharge. current balance is {bal}\")"
   ]
  },
  {
   "cell_type": "code",
   "execution_count": null,
   "id": "0659cdd7-f023-4301-9ca8-7c1134636873",
   "metadata": {},
   "outputs": [],
   "source": []
  },
  {
   "cell_type": "code",
   "execution_count": null,
   "id": "ddf62bd8-d73b-40c8-bf69-877a20c1d53d",
   "metadata": {},
   "outputs": [],
   "source": []
  }
 ],
 "metadata": {
  "kernelspec": {
   "display_name": "Python 3 (ipykernel)",
   "language": "python",
   "name": "python3"
  },
  "language_info": {
   "codemirror_mode": {
    "name": "ipython",
    "version": 3
   },
   "file_extension": ".py",
   "mimetype": "text/x-python",
   "name": "python",
   "nbconvert_exporter": "python",
   "pygments_lexer": "ipython3",
   "version": "3.12.4"
  }
 },
 "nbformat": 4,
 "nbformat_minor": 5
}
